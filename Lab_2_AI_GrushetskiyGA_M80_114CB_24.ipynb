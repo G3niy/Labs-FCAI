{
  "nbformat": 4,
  "nbformat_minor": 0,
  "metadata": {
    "colab": {
      "provenance": []
    },
    "kernelspec": {
      "name": "python3",
      "display_name": "Python 3"
    },
    "language_info": {
      "name": "python"
    }
  },
  "cells": [
    {
      "cell_type": "markdown",
      "source": [
        "# Лабораторная работа №2 - Глобальная оптимизация и метаэврестические алгоритмы\n",
        "М80-114СВ-24\n",
        "\n",
        "Грушецкий Г.А."
      ],
      "metadata": {
        "id": "JqDaRWmtzvVq"
      }
    },
    {
      "cell_type": "markdown",
      "source": [
        "## В Pygmo запрограммировать две своих тестовых функции и найти их оптимум 3 разными алгоритмами доступными в библиотеке и получить таблицу сравнения"
      ],
      "metadata": {
        "id": "iom4Ixyn0IgK"
      }
    },
    {
      "cell_type": "markdown",
      "source": [
        "### Подключение pygmo и библиотек"
      ],
      "metadata": {
        "id": "061f_b8m0LCW"
      }
    },
    {
      "cell_type": "code",
      "source": [
        "!pip install pygmo"
      ],
      "metadata": {
        "colab": {
          "base_uri": "https://localhost:8080/"
        },
        "id": "KlGI7V-Pq_jW",
        "outputId": "32194ef1-3b5b-4a17-b71c-f0eae5f5d3c2"
      },
      "execution_count": 1,
      "outputs": [
        {
          "output_type": "stream",
          "name": "stdout",
          "text": [
            "Collecting pygmo\n",
            "  Downloading pygmo-2.19.5-cp310-cp310-manylinux_2_28_x86_64.whl.metadata (978 bytes)\n",
            "Requirement already satisfied: numpy in /usr/local/lib/python3.10/dist-packages (from pygmo) (1.26.4)\n",
            "Requirement already satisfied: cloudpickle in /usr/local/lib/python3.10/dist-packages (from pygmo) (3.1.0)\n",
            "Requirement already satisfied: scipy in /usr/local/lib/python3.10/dist-packages (from pygmo) (1.13.1)\n",
            "Downloading pygmo-2.19.5-cp310-cp310-manylinux_2_28_x86_64.whl (14.7 MB)\n",
            "\u001b[2K   \u001b[90m━━━━━━━━━━━━━━━━━━━━━━━━━━━━━━━━━━━━━━━━\u001b[0m \u001b[32m14.7/14.7 MB\u001b[0m \u001b[31m48.5 MB/s\u001b[0m eta \u001b[36m0:00:00\u001b[0m\n",
            "\u001b[?25hInstalling collected packages: pygmo\n",
            "Successfully installed pygmo-2.19.5\n"
          ]
        }
      ]
    },
    {
      "cell_type": "code",
      "source": [
        "import pygmo as pg\n",
        "import pandas as pd"
      ],
      "metadata": {
        "id": "M_6NhqqAwWXc"
      },
      "execution_count": 2,
      "outputs": []
    },
    {
      "cell_type": "markdown",
      "source": [
        "### Создание классов для pygmo и выбор алгоритмов из библиотеки"
      ],
      "metadata": {
        "id": "tnMnpCwh0Pq0"
      }
    },
    {
      "cell_type": "code",
      "source": [
        "class three_hump_camel:\n",
        "    def fitness(self, x):\n",
        "        return [2 * x[0]**2 - 1.05 * x[0]**4 + (x[0]**6) / 6 + x[0] * x[1] + x[1]**2]\n",
        "\n",
        "    def get_bounds(self):\n",
        "        return [-5.0, -5.0], [5.0, 5.0]\n",
        "\n",
        "class matyas_function:\n",
        "    def fitness(self, x):\n",
        "        return [0.26 * (x[0]**2 + x[1]**2) - 0.48 * x[0] * x[1]]\n",
        "\n",
        "    def get_bounds(self):\n",
        "        return [-10.0, -10.0], [10.0, 10.0]\n",
        "\n",
        "Grey_wolf_optimizer = pg.algorithm(pg.gwo())\n",
        "Self_adaptive_differential_evolution = pg.algorithm(pg.sade())\n",
        "Local_Search = pg.algorithm(pg.pso())"
      ],
      "metadata": {
        "id": "D-uhyjqjr5Yx"
      },
      "execution_count": 3,
      "outputs": []
    },
    {
      "cell_type": "markdown",
      "source": [
        "### Метод запуска чтоб не возиться с каждым *алгоритмом*"
      ],
      "metadata": {
        "id": "Pldufpt40Yxy"
      }
    },
    {
      "cell_type": "code",
      "source": [
        "def tester(optimization_problem, optimization_algorithm, size_of_population=50):\n",
        "    population = pg.population(optimization_problem, size=size_of_population)\n",
        "    population = optimization_algorithm.evolve(population)\n",
        "    optimal_solution = population.champion_x\n",
        "    optimal_fitness = population.champion_f[0]\n",
        "    return optimal_solution[0], optimal_solution[1], optimal_fitness"
      ],
      "metadata": {
        "id": "PQ8v2QcvsUak"
      },
      "execution_count": 4,
      "outputs": []
    },
    {
      "cell_type": "markdown",
      "source": [
        "### Заполнение результата каждого алгоритма по функции Трехгорбого верблюда и вывод таблицы"
      ],
      "metadata": {
        "id": "3izQT0On0fA-"
      }
    },
    {
      "cell_type": "code",
      "source": [
        "big_camel_problem = pg.problem(three_hump_camel())\n",
        "list_results = []\n",
        "list_algs = [Grey_wolf_optimizer, Self_adaptive_differential_evolution, Local_Search]\n",
        "list_literas = ['GWO', 'SADE', 'LS']\n",
        "counter = 0\n",
        "for i in list_algs:\n",
        "  final_res = tester(big_camel_problem, i)\n",
        "  list_results.append((list_literas[counter], *final_res))\n",
        "  counter+=1\n",
        "print(list_results)"
      ],
      "metadata": {
        "colab": {
          "base_uri": "https://localhost:8080/"
        },
        "id": "u3a-OK4us4k5",
        "outputId": "334b9989-67d8-49ea-e4e5-9f55e516314f"
      },
      "execution_count": 6,
      "outputs": [
        {
          "output_type": "stream",
          "name": "stdout",
          "text": [
            "[('GWO', 1.6112768926181111, -0.8493570020317707, 0.3844978571683758), ('SADE', -0.3802683659216206, -0.484563373822934, 0.6868219569280661), ('LS', -1.3962264766616799, 0.7671426304694973, 0.6606973181085536)]\n"
          ]
        }
      ]
    },
    {
      "cell_type": "code",
      "source": [
        "Fin_res_camel = pd.DataFrame(list_results, columns=[ 'alg', 'u', 'v', 'f(u, v)',])\n",
        "print(Fin_res_camel)"
      ],
      "metadata": {
        "colab": {
          "base_uri": "https://localhost:8080/"
        },
        "id": "5ppvCpgWtt_2",
        "outputId": "7f60effa-2ad1-43fa-c396-b745d4431040"
      },
      "execution_count": 7,
      "outputs": [
        {
          "output_type": "stream",
          "name": "stdout",
          "text": [
            "    alg         u         v   f(u, v)\n",
            "0   GWO  1.611277 -0.849357  0.384498\n",
            "1  SADE -0.380268 -0.484563  0.686822\n",
            "2    LS -1.396226  0.767143  0.660697\n"
          ]
        }
      ]
    },
    {
      "cell_type": "markdown",
      "source": [
        "### Заполнение результата каждого алгоритма по функции Матьяса и вывод таблицы"
      ],
      "metadata": {
        "id": "A-FyAG730yZG"
      }
    },
    {
      "cell_type": "code",
      "source": [
        "big_matyas_problem = pg.problem(matyas_function())\n",
        "list_results = []\n",
        "list_algs = [Grey_wolf_optimizer, Self_adaptive_differential_evolution, Local_Search]\n",
        "list_literas = ['GWO', 'SADE', 'LS']\n",
        "counter = 0\n",
        "for i in list_algs:\n",
        "  final_res = tester(big_matyas_problem, i)\n",
        "  list_results.append((list_literas[counter], *final_res))\n",
        "  counter+=1\n",
        "print(list_results)"
      ],
      "metadata": {
        "colab": {
          "base_uri": "https://localhost:8080/"
        },
        "id": "sTBaZzM3xBTL",
        "outputId": "e4150866-88c7-45b1-fef0-08cf231a125b"
      },
      "execution_count": 8,
      "outputs": [
        {
          "output_type": "stream",
          "name": "stdout",
          "text": [
            "[('GWO', -1.5396870054823246, -1.486867579886459, 0.09229779951223738), ('SADE', -1.4145378842384417, -1.3181804517023568, 0.07699868373710717), ('LS', -0.050993491848117856, -0.27462294968142886, 0.013562794272648802)]\n"
          ]
        }
      ]
    },
    {
      "cell_type": "code",
      "source": [
        "Fin_res_camel = pd.DataFrame(list_results, columns=[ 'alg', 'u', 'v', 'f(u, v)',])\n",
        "print(Fin_res_camel)"
      ],
      "metadata": {
        "colab": {
          "base_uri": "https://localhost:8080/"
        },
        "id": "j_Q_pkBEzgrM",
        "outputId": "da8fe721-3022-4fb0-ff3e-c476a60c4942"
      },
      "execution_count": 9,
      "outputs": [
        {
          "output_type": "stream",
          "name": "stdout",
          "text": [
            "    alg         u         v   f(u, v)\n",
            "0   GWO -1.539687 -1.486868  0.092298\n",
            "1  SADE -1.414538 -1.318180  0.076999\n",
            "2    LS -0.050993 -0.274623  0.013563\n"
          ]
        }
      ]
    },
    {
      "cell_type": "markdown",
      "source": [
        "## Вывод"
      ],
      "metadata": {
        "id": "gNtg5RLo9iOu"
      }
    },
    {
      "cell_type": "markdown",
      "source": [
        "В данной лабораторной работе были В Pygmo запрограммированы тестовые функции Матьяса и Трехгорбого верблюда и найдены их оптимум 3 разными алгоритмами доступными в библиотеке и получены таблицы сравнения."
      ],
      "metadata": {
        "id": "5FV-OME49juW"
      }
    }
  ]
}